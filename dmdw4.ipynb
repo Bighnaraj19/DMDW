{
  "nbformat": 4,
  "nbformat_minor": 0,
  "metadata": {
    "colab": {
      "name": "dmdw4.ipynb",
      "provenance": [],
      "collapsed_sections": [],
      "authorship_tag": "ABX9TyPTmihI2qf1FHq7/j4M3jCX",
      "include_colab_link": true
    },
    "kernelspec": {
      "name": "python3",
      "display_name": "Python 3"
    },
    "language_info": {
      "name": "python"
    }
  },
  "cells": [
    {
      "cell_type": "markdown",
      "metadata": {
        "id": "view-in-github",
        "colab_type": "text"
      },
      "source": [
        "<a href=\"https://colab.research.google.com/github/Bighnaraj19/DMDW/blob/main/dmdw4.ipynb\" target=\"_parent\"><img src=\"https://colab.research.google.com/assets/colab-badge.svg\" alt=\"Open In Colab\"/></a>"
      ]
    },
    {
      "cell_type": "code",
      "metadata": {
        "colab": {
          "base_uri": "https://localhost:8080/"
        },
        "id": "AN-wNiYq2-d5",
        "outputId": "72ffc2d7-49ce-43d0-a156-d466c82ad96c"
      },
      "source": [
        "import numpy as np\n",
        "a = np.zeros((3,3))\n",
        "print(a)\n",
        "print(a.shape)\n",
        "b=np.ones((3,3))\n",
        "print(b)"
      ],
      "execution_count": null,
      "outputs": [
        {
          "output_type": "stream",
          "name": "stdout",
          "text": [
            "[[0. 0. 0.]\n",
            " [0. 0. 0.]\n",
            " [0. 0. 0.]]\n",
            "(3, 3)\n",
            "[[1. 1. 1.]\n",
            " [1. 1. 1.]\n",
            " [1. 1. 1.]]\n"
          ]
        }
      ]
    },
    {
      "cell_type": "code",
      "metadata": {
        "colab": {
          "base_uri": "https://localhost:8080/"
        },
        "id": "XGeFx4zh3zwy",
        "outputId": "1ae5dd6c-73aa-4d66-beaf-9bde9bf9f640"
      },
      "source": [
        "a = np.random.random((3,3))\n",
        "print(a)"
      ],
      "execution_count": null,
      "outputs": [
        {
          "output_type": "stream",
          "name": "stdout",
          "text": [
            "[[0.37510916 0.34094554 0.59396996]\n",
            " [0.8381419  0.66996862 0.2032233 ]\n",
            " [0.96311011 0.12576307 0.37896031]]\n"
          ]
        }
      ]
    },
    {
      "cell_type": "code",
      "metadata": {
        "colab": {
          "base_uri": "https://localhost:8080/"
        },
        "id": "emNTYvNT4WVJ",
        "outputId": "bcd0ebe6-fdbd-4a01-9c90-84e135e3efb0"
      },
      "source": [
        "a = np.arange(20)\n",
        "print(a)\n",
        "print(a[1:7:2])\n",
        "print(a[::-1])"
      ],
      "execution_count": null,
      "outputs": [
        {
          "output_type": "stream",
          "name": "stdout",
          "text": [
            "[ 0  1  2  3  4  5  6  7  8  9 10 11 12 13 14 15 16 17 18 19]\n",
            "[1 3 5]\n",
            "[19 18 17 16 15 14 13 12 11 10  9  8  7  6  5  4  3  2  1  0]\n"
          ]
        }
      ]
    },
    {
      "cell_type": "code",
      "metadata": {
        "colab": {
          "base_uri": "https://localhost:8080/"
        },
        "id": "G4nVvpy-6Sj7",
        "outputId": "564e4b14-3a21-4c75-bfa3-d389a78aef56"
      },
      "source": [
        "a = np.array([[12,11],[3,7],[5,13]])\n",
        "b = np.random.random((3,2))\n",
        "print(a.shape)\n",
        "print(a+b)\n",
        "print(a-b)\n",
        "print(a*b)\n",
        "print(a>10)\n"
      ],
      "execution_count": null,
      "outputs": [
        {
          "output_type": "stream",
          "name": "stdout",
          "text": [
            "(3, 2)\n",
            "[[12.23452012 11.97955193]\n",
            " [ 3.62988538  7.83976541]\n",
            " [ 5.75457665 13.83850797]]\n",
            "[[11.76547988 10.02044807]\n",
            " [ 2.37011462  6.16023459]\n",
            " [ 4.24542335 12.16149203]]\n",
            "[[ 2.8142414  10.77507122]\n",
            " [ 1.88965614  5.87835788]\n",
            " [ 3.77288326 10.90060361]]\n",
            "[[ True  True]\n",
            " [False False]\n",
            " [False  True]]\n"
          ]
        }
      ]
    },
    {
      "cell_type": "code",
      "metadata": {
        "colab": {
          "base_uri": "https://localhost:8080/"
        },
        "id": "DUBktxMc62tp",
        "outputId": "ab3a37ec-7a75-452b-e9c5-94ea107a3919"
      },
      "source": [
        "a = np.array([[12,11],[3,7],[5,13]])\n",
        "print(np.sum(a,axis=0))\n",
        "print(np.sum(a,axis=1))\n",
        "print(a.T)"
      ],
      "execution_count": null,
      "outputs": [
        {
          "output_type": "stream",
          "name": "stdout",
          "text": [
            "[20 31]\n",
            "[23 10 18]\n",
            "[[12  3  5]\n",
            " [11  7 13]]\n"
          ]
        }
      ]
    },
    {
      "cell_type": "code",
      "metadata": {
        "colab": {
          "base_uri": "https://localhost:8080/"
        },
        "id": "cluUKJBN8cve",
        "outputId": "d6efc61e-8b7f-4d18-8bfd-a765f1160be0"
      },
      "source": [
        "a = np.array([[22,11,15],[5,7,3]])\n",
        "print(a)\n",
        "w=np.array([1.0,1.1,1.2])\n",
        "print(w)\n",
        "print(a+w)\n"
      ],
      "execution_count": null,
      "outputs": [
        {
          "output_type": "stream",
          "name": "stdout",
          "text": [
            "[[22 11 15]\n",
            " [ 5  7  3]]\n",
            "[1.  1.1 1.2]\n",
            "[[23.  12.1 16.2]\n",
            " [ 6.   8.1  4.2]]\n"
          ]
        }
      ]
    }
  ]
}